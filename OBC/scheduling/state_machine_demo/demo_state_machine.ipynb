{
 "cells": [
  {
   "cell_type": "code",
   "execution_count": null,
   "metadata": {},
   "outputs": [],
   "source": [
    "# /////////////////////////////// #\n",
    "# In this script, I will simulate the state machine\n",
    "'''Steps of the state machine\n",
    "1. Entry into space (limit switch)\n",
    "2. Boot up satellite\n",
    "3. Detumble - takes in data from magnetorquers, IMU\n",
    "    a. When IMU reads that angular velocity approximately equals 0, transitition to next state\n",
    "4. Assess charge - takes in data from solar panels on the sides\n",
    "    a. if the battery is at 95% or timeout, deploy antennas (burn wire, GPIOs)\n",
    "5. If battery is greater than 50% and over Earth, use comms - takes in data from antennae, radio, magnetorquers, IMU\n",
    "6. If battery is greater than 50% and velocity approximately equals 0, deploy payload - takes in data from burn wire, GPIOs\n",
    "7. If battery is greater than 30%, orient payload\n",
    "    a. If over Earth, deploy comms\n",
    "'''"
   ]
  },
  {
   "cell_type": "code",
   "execution_count": null,
   "metadata": {},
   "outputs": [],
   "source": [
    "# import packages\n",
    "import multiprocessing\n",
    "import subprocess\n",
    "import queue"
   ]
  },
  {
   "cell_type": "code",
   "execution_count": null,
   "metadata": {},
   "outputs": [],
   "source": [
    "# set variables\n",
    "process_scripts = [\"OBC/scheduling/state_machine_demo/fake_battery.ipynb\", \" \"] # directory of dummy test paths\n",
    "\n",
    "# these are all going to be dummy processes designed to just test the states"
   ]
  },
  {
   "cell_type": "code",
   "execution_count": null,
   "metadata": {},
   "outputs": [],
   "source": [
    "# function library (from subprocesses.py script)\n",
    "# launch start up process \n",
    "def run_script(script_name, output_queue, stop_event, process_id):\n",
    "    # to run the script, we need an interpreter, the python interpreter is located at the file \"/usr/bin/python3\"\n",
    "    # PIPE = make a standard pipe, which allows for standard communication across channels, in this case the I/O channel \n",
    "    process = subprocess.Popen([\"/usr/bin/python3\", script_name], stdout=subprocess.PIPE, stderr=subprocess.PIPE, text=True)\n",
    "    while not stop_event.is_set():\n",
    "        output = process.stdout.readline()\n",
    "        if output == '' and process.poll() is not None:\n",
    "            break\n",
    "        if output:\n",
    "            output_queue.put((process_id, output.strip()))\n",
    "\n",
    "# make a process for each piece of work to do\n",
    "    processes = []\n",
    "    # would this work?  How does stop event work?\n",
    "    for i in range(0, len(process_scripts)):\n",
    "        process{}.format(i) = multiprocessing.Process(target=run_script, args=(process_scripts[i], output_queue, stop_event{}.format(i), i)\n",
    "    \n",
    "    process0 = multiprocessing.Process(target=run_script, args=(process_scripts[0], output_queue, stop_event1, 0))\n",
    "    process0.start()\n",
    "    processes.append(process0)\n",
    "    process1 = multiprocessing.Process(target=run_script, args=(process_scripts[1], output_queue, stop_event2, 1))\n",
    "    process1.start()\n",
    "    processes.append(process1)"
   ]
  },
  {
   "cell_type": "code",
   "execution_count": null,
   "metadata": {},
   "outputs": [],
   "source": []
  },
  {
   "cell_type": "code",
   "execution_count": null,
   "metadata": {},
   "outputs": [],
   "source": [
    "# take in data from magnetorquers, run detumbling process\n",
    "# kill the detumbling process when angular veolicty is equal to 0"
   ]
  },
  {
   "cell_type": "code",
   "execution_count": null,
   "metadata": {},
   "outputs": [],
   "source": [
    "# run the startracker to continually determine the position relative to Earth"
   ]
  },
  {
   "cell_type": "code",
   "execution_count": null,
   "metadata": {},
   "outputs": [],
   "source": [
    "# begin battery checking\n",
    "# if battery is > 95%, deploy antennas\n",
    "# if battery is  > 50% and over Earth, deploy comms\n",
    "# if battery is  > 50% and velocity = 0, deploy payload\n",
    "# if 30% >= battery > 50%, orient payload, and if over Earth, deploy comms\n",
    "run_script()"
   ]
  }
 ],
 "metadata": {
  "language_info": {
   "name": "python"
  }
 },
 "nbformat": 4,
 "nbformat_minor": 2
}
