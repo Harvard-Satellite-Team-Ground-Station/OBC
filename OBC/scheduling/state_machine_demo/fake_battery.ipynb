{
 "cells": [
  {
   "cell_type": "code",
   "execution_count": null,
   "metadata": {},
   "outputs": [],
   "source": [
    "# this process simulates possible battery values\n",
    "import random\n",
    "x = 1\n",
    "if x == 1:\n",
    "    battery = random.randint(0,100)"
   ]
  }
 ],
 "metadata": {
  "language_info": {
   "name": "python"
  }
 },
 "nbformat": 4,
 "nbformat_minor": 2
}
